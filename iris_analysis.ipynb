{
 "cells": [
  {
   "cell_type": "markdown",
   "id": "475d5625",
   "metadata": {},
   "source": [
    "# Analyzing Data with Pandas and Visualizing Results with Matplotlib\n",
    "This notebook uses the Iris dataset for basic analysis and visualization."
   ]
  },
  {
   "cell_type": "code",
   "execution_count": null,
   "id": "1b743705",
   "metadata": {},
   "outputs": [],
   "source": [
    "import pandas as pd\n",
    "import matplotlib.pyplot as plt\n",
    "import seaborn as sns\n",
    "from sklearn.datasets import load_iris"
   ]
  },
  {
   "cell_type": "markdown",
   "id": "c6e1f08d",
   "metadata": {},
   "source": [
    "## Task 1: Load and Explore the Dataset"
   ]
  },
  {
   "cell_type": "code",
   "execution_count": null,
   "id": "847d3c05",
   "metadata": {},
   "outputs": [],
   "source": [
    "# Load the dataset\n",
    "try:\n",
    "    iris = load_iris()\n",
    "    df = pd.DataFrame(data=iris.data, columns=iris.feature_names)\n",
    "    df['species'] = iris.target\n",
    "    df['species'] = df['species'].map(dict(zip(range(3), iris.target_names)))\n",
    "    print(\"Dataset loaded successfully.\")\n",
    "except Exception as e:\n",
    "    print(\"Error loading dataset:\", e)"
   ]
  },
  {
   "cell_type": "code",
   "execution_count": null,
   "id": "90a86d78",
   "metadata": {},
   "outputs": [],
   "source": [
    "df.head()"
   ]
  },
  {
   "cell_type": "code",
   "execution_count": null,
   "id": "4f749e92",
   "metadata": {},
   "outputs": [],
   "source": [
    "df.info()"
   ]
  },
  {
   "cell_type": "code",
   "execution_count": null,
   "id": "04c9b454",
   "metadata": {},
   "outputs": [],
   "source": [
    "df.isnull().sum()"
   ]
  },
  {
   "cell_type": "markdown",
   "id": "cdae3297",
   "metadata": {},
   "source": [
    "## Task 2: Basic Data Analysis"
   ]
  },
  {
   "cell_type": "code",
   "execution_count": null,
   "id": "fe148f1a",
   "metadata": {},
   "outputs": [],
   "source": [
    "df.describe()"
   ]
  },
  {
   "cell_type": "code",
   "execution_count": null,
   "id": "00a1629f",
   "metadata": {},
   "outputs": [],
   "source": [
    "grouped = df.groupby('species').mean()\n",
    "grouped"
   ]
  },
  {
   "cell_type": "markdown",
   "id": "0009f42c",
   "metadata": {},
   "source": [
    "### Observation:\n",
    "- Setosa tends to have smaller petal lengths and widths.\n",
    "- Virginica has the largest petal dimensions."
   ]
  },
  {
   "cell_type": "markdown",
   "id": "28dcd74e",
   "metadata": {},
   "source": [
    "## Task 3: Data Visualization"
   ]
  },
  {
   "cell_type": "code",
   "execution_count": null,
   "id": "9be4554e",
   "metadata": {},
   "outputs": [],
   "source": [
    "# Line chart - Simulated trend\n",
    "plt.figure(figsize=(8, 4))\n",
    "df.groupby(df.index)['sepal length (cm)'].mean().plot(title='Sepal Length Trend')\n",
    "plt.xlabel(\"Index\")\n",
    "plt.ylabel(\"Sepal Length (cm)\")\n",
    "plt.grid(True)\n",
    "plt.tight_layout()\n",
    "plt.show()"
   ]
  },
  {
   "cell_type": "code",
   "execution_count": null,
   "id": "9926ca48",
   "metadata": {},
   "outputs": [],
   "source": [
    "# Bar chart - Average petal length by species\n",
    "plt.figure(figsize=(6, 4))\n",
    "sns.barplot(x='species', y='petal length (cm)', data=df)\n",
    "plt.title('Average Petal Length per Species')\n",
    "plt.ylabel('Petal Length (cm)')\n",
    "plt.xlabel('Species')\n",
    "plt.tight_layout()\n",
    "plt.show()"
   ]
  },
  {
   "cell_type": "code",
   "execution_count": null,
   "id": "5927efd5",
   "metadata": {},
   "outputs": [],
   "source": [
    "# Histogram - Distribution of sepal length\n",
    "plt.figure(figsize=(6, 4))\n",
    "plt.hist(df['sepal length (cm)'], bins=15, color='skyblue', edgecolor='black')\n",
    "plt.title('Distribution of Sepal Length')\n",
    "plt.xlabel('Sepal Length (cm)')\n",
    "plt.ylabel('Frequency')\n",
    "plt.tight_layout()\n",
    "plt.show()"
   ]
  },
  {
   "cell_type": "code",
   "execution_count": null,
   "id": "ec529a41",
   "metadata": {},
   "outputs": [],
   "source": [
    "# Scatter plot - Sepal vs Petal Length\n",
    "plt.figure(figsize=(6, 4))\n",
    "sns.scatterplot(data=df, x='sepal length (cm)', y='petal length (cm)', hue='species')\n",
    "plt.title('Sepal vs Petal Length')\n",
    "plt.tight_layout()\n",
    "plt.show()"
   ]
  }
 ],
 "metadata": {},
 "nbformat": 4,
 "nbformat_minor": 5
}